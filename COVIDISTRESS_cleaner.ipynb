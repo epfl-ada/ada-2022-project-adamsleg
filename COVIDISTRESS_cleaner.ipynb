{
 "cells": [
  {
   "cell_type": "code",
   "execution_count": 1,
   "id": "7e3d66cd-3644-4a8a-a941-83b0774c5cc0",
   "metadata": {},
   "outputs": [
    {
     "data": {
      "text/plain": [
       "'\\nFile name: COVIDISTRESS_cleaner.ipynb\\nGroupe: ADAMsLEG\\nDate created: 9/11/2022\\nDate last modified: 12/11/2022\\nPython Version: 3.9\\n'"
      ]
     },
     "execution_count": 1,
     "metadata": {},
     "output_type": "execute_result"
    }
   ],
   "source": [
    "'''\n",
    "File name: COVIDISTRESS_cleaner.ipynb\n",
    "Groupe: ADAMsLEG\n",
    "Date created: 9/11/2022\n",
    "Date last modified: 12/11/2022\n",
    "Python Version: 3.9\n",
    "'''"
   ]
  },
  {
   "cell_type": "markdown",
   "id": "e37434f7-b3e9-45bc-bb19-31b572cc1206",
   "metadata": {},
   "source": [
    "# COVIDiSTRESS data cleaning\n",
    "In this notebook, we take the already cleaned data from the survey [COVIDiSTRESS Global Survey dataset on psychological and behavioural consequences of the COVID-19 outbreak](https://www.nature.com/articles/s41597-020-00784-9#Sec7). We then process it for our needs and output an adapted version."
   ]
  },
  {
   "cell_type": "code",
   "execution_count": 2,
   "id": "115c9c60-005f-4a6b-9fca-80107485d0f2",
   "metadata": {},
   "outputs": [],
   "source": [
    "import pandas as pd"
   ]
  },
  {
   "cell_type": "markdown",
   "id": "f853c69e-4cca-4775-8715-32cd4ffa86b8",
   "metadata": {},
   "source": [
    "### Set-up"
   ]
  },
  {
   "cell_type": "code",
   "execution_count": 3,
   "id": "92cc66ba-c6bc-4fc9-839d-7f4b39735d19",
   "metadata": {},
   "outputs": [],
   "source": [
    "PATH = 'data/COVIDISTRESS_unprocess_data/'"
   ]
  },
  {
   "cell_type": "code",
   "execution_count": 4,
   "id": "f1ddc2de-04a4-4544-9ba2-2d3732baaaef",
   "metadata": {},
   "outputs": [
    {
     "name": "stderr",
     "output_type": "stream",
     "text": [
      "C:\\Users\\josan\\AppData\\Local\\Temp\\ipykernel_11476\\1405483630.py:3: DtypeWarning: Columns (55,56,57,58,59,60,61) have mixed types. Specify dtype option on import or set low_memory=False.\n",
      "  df_mai = pd.read_csv(PATH + 'COVIDiSTRESS_May_30_cleaned_final.csv', encoding= 'unicode_escape')\n",
      "C:\\Users\\josan\\AppData\\Local\\Temp\\ipykernel_11476\\1405483630.py:4: DtypeWarning: Columns (54,55,56,57,58,59,60,65,66,67,68,69) have mixed types. Specify dtype option on import or set low_memory=False.\n",
      "  df_june = pd.read_csv(PATH + 'COVIDiSTRESS June 17.csv', encoding= 'unicode_escape')\n"
     ]
    }
   ],
   "source": [
    "#getting the csv from COVIDistress \n",
    "df_april = pd.read_csv(PATH + 'COVIDiSTRESS_April_27_clean.csv', encoding= 'unicode_escape')\n",
    "df_mai = pd.read_csv(PATH + 'COVIDiSTRESS_May_30_cleaned_final.csv', encoding= 'unicode_escape')\n",
    "df_june = pd.read_csv(PATH + 'COVIDiSTRESS June 17.csv', encoding= 'unicode_escape')"
   ]
  },
  {
   "cell_type": "markdown",
   "id": "0ef579a9-83ec-4934-a07d-7d82677e7ce1",
   "metadata": {},
   "source": [
    "##### Constant lists"
   ]
  },
  {
   "cell_type": "code",
   "execution_count": 5,
   "id": "385a5495-a1a8-47fa-9f2f-7d41f816f6b2",
   "metadata": {},
   "outputs": [],
   "source": [
    "EUROPE_COUNTRY = ['Austria',\n",
    "                  'Belgium',\n",
    "                  'Bosnia and Herzegovina',\n",
    "                  'Bulgaria',\n",
    "                  'Croatia',\n",
    "                  'Czech Republic',\n",
    "                  'Denmark',\n",
    "                  'Finland',\n",
    "                  'France',\n",
    "                  'Germany',\n",
    "                  'Greece',\n",
    "                  'Hungary',\n",
    "                  'Ireland',\n",
    "                  'Italy',\n",
    "                  'Kosovo',\n",
    "                  'Lithuania',\n",
    "                  'Netherlands',\n",
    "                  'Poland',\n",
    "                  'Portugal',\n",
    "                  'Serbia',\n",
    "                  'Slovakia',\n",
    "                  'Spain',\n",
    "                  'Sweden',\n",
    "                  'Switzerland',\n",
    "                  'United Kingdom']\n",
    "\n",
    "#columns that interest us for the analysis\n",
    "COLUMNS_AVG = ['PSS10_avg', 'SLON3_avg']"
   ]
  },
  {
   "cell_type": "markdown",
   "id": "cb574954-60b6-45ac-9ba8-8aa98915fcea",
   "metadata": {},
   "source": [
    "### 1st file: data from April 27\n",
    "##### Overview\n",
    "We start with a slight overview of the data, in order to understand what we are going to work with."
   ]
  },
  {
   "cell_type": "code",
   "execution_count": 6,
   "id": "eef1dc8e-1c4c-4f08-ab99-0c8464d4e499",
   "metadata": {},
   "outputs": [
    {
     "data": {
      "text/html": [
       "<div>\n",
       "<style scoped>\n",
       "    .dataframe tbody tr th:only-of-type {\n",
       "        vertical-align: middle;\n",
       "    }\n",
       "\n",
       "    .dataframe tbody tr th {\n",
       "        vertical-align: top;\n",
       "    }\n",
       "\n",
       "    .dataframe thead th {\n",
       "        text-align: right;\n",
       "    }\n",
       "</style>\n",
       "<table border=\"1\" class=\"dataframe\">\n",
       "  <thead>\n",
       "    <tr style=\"text-align: right;\">\n",
       "      <th></th>\n",
       "      <th>Unnamed: 0</th>\n",
       "      <th>Duration..in.seconds.</th>\n",
       "      <th>RecordedDate</th>\n",
       "      <th>UserLanguage</th>\n",
       "      <th>Dem_age</th>\n",
       "      <th>Dem_gender</th>\n",
       "      <th>Dem_edu</th>\n",
       "      <th>Dem_edu_mom</th>\n",
       "      <th>Dem_employment</th>\n",
       "      <th>Country</th>\n",
       "      <th>...</th>\n",
       "      <th>Expl_media_6</th>\n",
       "      <th>Final_open</th>\n",
       "      <th>PSS10_avg</th>\n",
       "      <th>Lon_avg</th>\n",
       "      <th>neu</th>\n",
       "      <th>ext</th>\n",
       "      <th>ope</th>\n",
       "      <th>agr</th>\n",
       "      <th>con</th>\n",
       "      <th>SPS_avg</th>\n",
       "    </tr>\n",
       "  </thead>\n",
       "  <tbody>\n",
       "    <tr>\n",
       "      <th>0</th>\n",
       "      <td>1</td>\n",
       "      <td>1058</td>\n",
       "      <td>2020-04-27 04:20:30</td>\n",
       "      <td>DA</td>\n",
       "      <td>33</td>\n",
       "      <td>Female</td>\n",
       "      <td>College degree, bachelor, master</td>\n",
       "      <td>Some College or equivalent</td>\n",
       "      <td>Full time employed</td>\n",
       "      <td>Denmark</td>\n",
       "      <td>...</td>\n",
       "      <td>3.0</td>\n",
       "      <td>NaN</td>\n",
       "      <td>1.6</td>\n",
       "      <td>2.333333</td>\n",
       "      <td>2.000000</td>\n",
       "      <td>5.000000</td>\n",
       "      <td>4.666667</td>\n",
       "      <td>4.000000</td>\n",
       "      <td>3.666667</td>\n",
       "      <td>6.000000</td>\n",
       "    </tr>\n",
       "    <tr>\n",
       "      <th>1</th>\n",
       "      <td>2</td>\n",
       "      <td>1323</td>\n",
       "      <td>2020-04-27 04:17:16</td>\n",
       "      <td>NL</td>\n",
       "      <td>52</td>\n",
       "      <td>Male</td>\n",
       "      <td>College degree, bachelor, master</td>\n",
       "      <td>Up to 12 years of school</td>\n",
       "      <td>Self-employed</td>\n",
       "      <td>Netherlands</td>\n",
       "      <td>...</td>\n",
       "      <td>4.0</td>\n",
       "      <td>Ik ben blij met de 'intelligente lockdown' zoa...</td>\n",
       "      <td>2.5</td>\n",
       "      <td>3.000000</td>\n",
       "      <td>4.666667</td>\n",
       "      <td>3.666667</td>\n",
       "      <td>5.000000</td>\n",
       "      <td>4.333333</td>\n",
       "      <td>4.666667</td>\n",
       "      <td>4.400000</td>\n",
       "    </tr>\n",
       "    <tr>\n",
       "      <th>2</th>\n",
       "      <td>3</td>\n",
       "      <td>801</td>\n",
       "      <td>2020-04-27 04:05:14</td>\n",
       "      <td>SK</td>\n",
       "      <td>52</td>\n",
       "      <td>Female</td>\n",
       "      <td>College degree, bachelor, master</td>\n",
       "      <td>College degree</td>\n",
       "      <td>Full time employed</td>\n",
       "      <td>Slovakia</td>\n",
       "      <td>...</td>\n",
       "      <td>4.0</td>\n",
       "      <td>NaN</td>\n",
       "      <td>2.4</td>\n",
       "      <td>3.666667</td>\n",
       "      <td>3.000000</td>\n",
       "      <td>4.333333</td>\n",
       "      <td>4.333333</td>\n",
       "      <td>5.000000</td>\n",
       "      <td>4.666667</td>\n",
       "      <td>5.222222</td>\n",
       "    </tr>\n",
       "  </tbody>\n",
       "</table>\n",
       "<p>3 rows × 136 columns</p>\n",
       "</div>"
      ],
      "text/plain": [
       "   Unnamed: 0  Duration..in.seconds.         RecordedDate UserLanguage  \\\n",
       "0           1                   1058  2020-04-27 04:20:30           DA   \n",
       "1           2                   1323  2020-04-27 04:17:16           NL   \n",
       "2           3                    801  2020-04-27 04:05:14           SK   \n",
       "\n",
       "   Dem_age Dem_gender                           Dem_edu  \\\n",
       "0       33     Female  College degree, bachelor, master   \n",
       "1       52       Male  College degree, bachelor, master   \n",
       "2       52     Female  College degree, bachelor, master   \n",
       "\n",
       "                  Dem_edu_mom      Dem_employment      Country  ...  \\\n",
       "0  Some College or equivalent  Full time employed      Denmark  ...   \n",
       "1    Up to 12 years of school       Self-employed  Netherlands  ...   \n",
       "2              College degree  Full time employed     Slovakia  ...   \n",
       "\n",
       "  Expl_media_6                                         Final_open PSS10_avg  \\\n",
       "0          3.0                                                NaN       1.6   \n",
       "1          4.0  Ik ben blij met de 'intelligente lockdown' zoa...       2.5   \n",
       "2          4.0                                                NaN       2.4   \n",
       "\n",
       "    Lon_avg       neu       ext       ope       agr       con   SPS_avg  \n",
       "0  2.333333  2.000000  5.000000  4.666667  4.000000  3.666667  6.000000  \n",
       "1  3.000000  4.666667  3.666667  5.000000  4.333333  4.666667  4.400000  \n",
       "2  3.666667  3.000000  4.333333  4.333333  5.000000  4.666667  5.222222  \n",
       "\n",
       "[3 rows x 136 columns]"
      ]
     },
     "execution_count": 6,
     "metadata": {},
     "output_type": "execute_result"
    }
   ],
   "source": [
    "df_april.head(3)"
   ]
  },
  {
   "cell_type": "code",
   "execution_count": 7,
   "id": "f86f40cf-0310-49ca-8d1c-4d54cbc10362",
   "metadata": {},
   "outputs": [
    {
     "name": "stdout",
     "output_type": "stream",
     "text": [
      "This dataset contains 115213 data points\n"
     ]
    }
   ],
   "source": [
    "print('This dataset contains ' + str(len(df_april)) + ' data points')"
   ]
  },
  {
   "cell_type": "markdown",
   "id": "e9aa57e5-4982-4aac-8fc6-3e3d869645d5",
   "metadata": {},
   "source": [
    "##### Processing\n",
    "We started by looking at the countries that interest us."
   ]
  },
  {
   "cell_type": "code",
   "execution_count": 8,
   "id": "fcbe8e5e-6c77-4d0f-9263-4108043795c5",
   "metadata": {},
   "outputs": [
    {
     "data": {
      "text/plain": [
       "Country\n",
       "Afghanistan    110\n",
       "Albania         79\n",
       "Algeria         33\n",
       "Andorra         14\n",
       "Angola           9\n",
       "              ... \n",
       "Venezuela        8\n",
       "Vietnam        171\n",
       "Zambia           4\n",
       "Zimbabwe         4\n",
       "other          218\n",
       "Length: 173, dtype: int64"
      ]
     },
     "execution_count": 8,
     "metadata": {},
     "output_type": "execute_result"
    }
   ],
   "source": [
    "#groupe the df by country\n",
    "country_groupe_april = df_april.groupby(['Country']).size()\n",
    "country_groupe_april"
   ]
  },
  {
   "cell_type": "markdown",
   "id": "eaaf08e8-0a03-4b3c-b62f-c00e562975ec",
   "metadata": {},
   "source": [
    "We can see here that we have >170 countries and that some of them only have a few data points. Hence we decided to keep only those that have >200 data points in order to have enough data per country."
   ]
  },
  {
   "cell_type": "code",
   "execution_count": 9,
   "id": "bc737886-dd73-420a-808e-804cf723aef3",
   "metadata": {},
   "outputs": [
    {
     "name": "stdout",
     "output_type": "stream",
     "text": [
      "There is 41 countries that have more than 200 data points\n"
     ]
    }
   ],
   "source": [
    "#groupe countries that have >200 data point\n",
    "country_groupe_april_filtered = country_groupe_april[country_groupe_april >= 200]\n",
    "\n",
    "#Filters out the countries that doesn't have >200 data points\n",
    "df_april_filtered = df_april[df_april['Country'].isin(country_groupe_april_filtered.index)]\n",
    "country_april_over200 = df_april_filtered.groupby(['Country']).size()\n",
    "print('There is ' + str(len(country_april_over200)) + ' countries that have more than 200 data points')"
   ]
  },
  {
   "cell_type": "markdown",
   "id": "1732840d-53ae-4b22-8743-a2531cc04f92",
   "metadata": {},
   "source": [
    "We decided to orientate our evaluation to Europe countries, therefore we need to get ride of the other data from other countries"
   ]
  },
  {
   "cell_type": "code",
   "execution_count": 10,
   "id": "0aa1e400-1f56-46f6-b7ce-69a1c384a283",
   "metadata": {},
   "outputs": [
    {
     "name": "stdout",
     "output_type": "stream",
     "text": [
      "There is now only 25 EU countries left\n",
      "And 83525 is the new size of the df\n"
     ]
    }
   ],
   "source": [
    "#change name of a columns for to coincide with the other datasets\n",
    "df_april_filtered = df_april_filtered.rename(columns= {'Lon_avg' : 'SLON3_avg'})\n",
    "\n",
    "#filters out the countries which aren't in the European List Country\n",
    "df_april_filtered_EU = df_april_filtered[df_april_filtered['Country'].isin(EUROPE_COUNTRY)]\n",
    "country_april_EU = df_april_filtered_EU.groupby(['Country']).size()\n",
    "print('There is now only ' + str(len(country_april_EU)) + ' EU countries left')\n",
    "print('And ' + str(len(df_april_filtered_EU)) + ' is the new size of the df')"
   ]
  },
  {
   "cell_type": "markdown",
   "id": "76aa9c1b-b6de-4086-acef-9d73f13c6cb4",
   "metadata": {},
   "source": [
    "##### Filtering NAs\n",
    "Now that we have our countries of interest, we need to clean the data from any NAs in the columns of interest."
   ]
  },
  {
   "cell_type": "code",
   "execution_count": 11,
   "id": "2ead90cf-65c2-4f2f-86ec-01f8fb5c0817",
   "metadata": {},
   "outputs": [
    {
     "name": "stdout",
     "output_type": "stream",
     "text": [
      "The final dataset for the month of April is of size : 77464\n",
      "There were 6061 data point which were discarded\n"
     ]
    }
   ],
   "source": [
    "df_april_final = df_april_filtered_EU.dropna(subset = COLUMNS_AVG)\n",
    "print('The final dataset for the month of April is of size : ' + str(len(df_april_final)))\n",
    "print('There were ' + str(len(df_april_filtered_EU) - len(df_april_final)) + ' data point which were discarded')"
   ]
  },
  {
   "cell_type": "code",
   "execution_count": 12,
   "id": "48c7205f-8a09-49cb-9e56-eeae7105e095",
   "metadata": {},
   "outputs": [
    {
     "data": {
      "text/html": [
       "<div>\n",
       "<style scoped>\n",
       "    .dataframe tbody tr th:only-of-type {\n",
       "        vertical-align: middle;\n",
       "    }\n",
       "\n",
       "    .dataframe tbody tr th {\n",
       "        vertical-align: top;\n",
       "    }\n",
       "\n",
       "    .dataframe thead th {\n",
       "        text-align: right;\n",
       "    }\n",
       "</style>\n",
       "<table border=\"1\" class=\"dataframe\">\n",
       "  <thead>\n",
       "    <tr style=\"text-align: right;\">\n",
       "      <th></th>\n",
       "      <th>Unnamed: 0</th>\n",
       "      <th>Duration..in.seconds.</th>\n",
       "      <th>RecordedDate</th>\n",
       "      <th>UserLanguage</th>\n",
       "      <th>Dem_age</th>\n",
       "      <th>Dem_gender</th>\n",
       "      <th>Dem_edu</th>\n",
       "      <th>Dem_edu_mom</th>\n",
       "      <th>Dem_employment</th>\n",
       "      <th>Country</th>\n",
       "      <th>...</th>\n",
       "      <th>Expl_media_6</th>\n",
       "      <th>Final_open</th>\n",
       "      <th>PSS10_avg</th>\n",
       "      <th>SLON3_avg</th>\n",
       "      <th>neu</th>\n",
       "      <th>ext</th>\n",
       "      <th>ope</th>\n",
       "      <th>agr</th>\n",
       "      <th>con</th>\n",
       "      <th>SPS_avg</th>\n",
       "    </tr>\n",
       "  </thead>\n",
       "  <tbody>\n",
       "    <tr>\n",
       "      <th>0</th>\n",
       "      <td>1</td>\n",
       "      <td>1058</td>\n",
       "      <td>2020-04-27 04:20:30</td>\n",
       "      <td>DA</td>\n",
       "      <td>33</td>\n",
       "      <td>Female</td>\n",
       "      <td>College degree, bachelor, master</td>\n",
       "      <td>Some College or equivalent</td>\n",
       "      <td>Full time employed</td>\n",
       "      <td>Denmark</td>\n",
       "      <td>...</td>\n",
       "      <td>3.0</td>\n",
       "      <td>NaN</td>\n",
       "      <td>1.6</td>\n",
       "      <td>2.333333</td>\n",
       "      <td>2.000000</td>\n",
       "      <td>5.000000</td>\n",
       "      <td>4.666667</td>\n",
       "      <td>4.000000</td>\n",
       "      <td>3.666667</td>\n",
       "      <td>6.000000</td>\n",
       "    </tr>\n",
       "    <tr>\n",
       "      <th>1</th>\n",
       "      <td>2</td>\n",
       "      <td>1323</td>\n",
       "      <td>2020-04-27 04:17:16</td>\n",
       "      <td>NL</td>\n",
       "      <td>52</td>\n",
       "      <td>Male</td>\n",
       "      <td>College degree, bachelor, master</td>\n",
       "      <td>Up to 12 years of school</td>\n",
       "      <td>Self-employed</td>\n",
       "      <td>Netherlands</td>\n",
       "      <td>...</td>\n",
       "      <td>4.0</td>\n",
       "      <td>Ik ben blij met de 'intelligente lockdown' zoa...</td>\n",
       "      <td>2.5</td>\n",
       "      <td>3.000000</td>\n",
       "      <td>4.666667</td>\n",
       "      <td>3.666667</td>\n",
       "      <td>5.000000</td>\n",
       "      <td>4.333333</td>\n",
       "      <td>4.666667</td>\n",
       "      <td>4.400000</td>\n",
       "    </tr>\n",
       "    <tr>\n",
       "      <th>2</th>\n",
       "      <td>3</td>\n",
       "      <td>801</td>\n",
       "      <td>2020-04-27 04:05:14</td>\n",
       "      <td>SK</td>\n",
       "      <td>52</td>\n",
       "      <td>Female</td>\n",
       "      <td>College degree, bachelor, master</td>\n",
       "      <td>College degree</td>\n",
       "      <td>Full time employed</td>\n",
       "      <td>Slovakia</td>\n",
       "      <td>...</td>\n",
       "      <td>4.0</td>\n",
       "      <td>NaN</td>\n",
       "      <td>2.4</td>\n",
       "      <td>3.666667</td>\n",
       "      <td>3.000000</td>\n",
       "      <td>4.333333</td>\n",
       "      <td>4.333333</td>\n",
       "      <td>5.000000</td>\n",
       "      <td>4.666667</td>\n",
       "      <td>5.222222</td>\n",
       "    </tr>\n",
       "  </tbody>\n",
       "</table>\n",
       "<p>3 rows × 136 columns</p>\n",
       "</div>"
      ],
      "text/plain": [
       "   Unnamed: 0  Duration..in.seconds.         RecordedDate UserLanguage  \\\n",
       "0           1                   1058  2020-04-27 04:20:30           DA   \n",
       "1           2                   1323  2020-04-27 04:17:16           NL   \n",
       "2           3                    801  2020-04-27 04:05:14           SK   \n",
       "\n",
       "   Dem_age Dem_gender                           Dem_edu  \\\n",
       "0       33     Female  College degree, bachelor, master   \n",
       "1       52       Male  College degree, bachelor, master   \n",
       "2       52     Female  College degree, bachelor, master   \n",
       "\n",
       "                  Dem_edu_mom      Dem_employment      Country  ...  \\\n",
       "0  Some College or equivalent  Full time employed      Denmark  ...   \n",
       "1    Up to 12 years of school       Self-employed  Netherlands  ...   \n",
       "2              College degree  Full time employed     Slovakia  ...   \n",
       "\n",
       "  Expl_media_6                                         Final_open PSS10_avg  \\\n",
       "0          3.0                                                NaN       1.6   \n",
       "1          4.0  Ik ben blij met de 'intelligente lockdown' zoa...       2.5   \n",
       "2          4.0                                                NaN       2.4   \n",
       "\n",
       "   SLON3_avg       neu       ext       ope       agr       con   SPS_avg  \n",
       "0   2.333333  2.000000  5.000000  4.666667  4.000000  3.666667  6.000000  \n",
       "1   3.000000  4.666667  3.666667  5.000000  4.333333  4.666667  4.400000  \n",
       "2   3.666667  3.000000  4.333333  4.333333  5.000000  4.666667  5.222222  \n",
       "\n",
       "[3 rows x 136 columns]"
      ]
     },
     "execution_count": 12,
     "metadata": {},
     "output_type": "execute_result"
    }
   ],
   "source": [
    "df_april_final.head(3)"
   ]
  },
  {
   "cell_type": "markdown",
   "id": "1c8d9186-550b-40e6-81b4-1fb3ee039e88",
   "metadata": {},
   "source": [
    "We now have our cleaned dataset for the data from April 27 2020"
   ]
  },
  {
   "cell_type": "markdown",
   "id": "973f3adf-dc14-4ad4-b98d-3a0f1f2d877c",
   "metadata": {},
   "source": [
    "### 2nd file: data from Mai 30 2020\n",
    "##### Overview\n",
    "We start with a slight overview of the data, in order to understand what we are going to work with."
   ]
  },
  {
   "cell_type": "code",
   "execution_count": 13,
   "id": "058efad2-0b90-4a6a-a257-f593d66d8c4e",
   "metadata": {},
   "outputs": [
    {
     "data": {
      "text/html": [
       "<div>\n",
       "<style scoped>\n",
       "    .dataframe tbody tr th:only-of-type {\n",
       "        vertical-align: middle;\n",
       "    }\n",
       "\n",
       "    .dataframe tbody tr th {\n",
       "        vertical-align: top;\n",
       "    }\n",
       "\n",
       "    .dataframe thead th {\n",
       "        text-align: right;\n",
       "    }\n",
       "</style>\n",
       "<table border=\"1\" class=\"dataframe\">\n",
       "  <thead>\n",
       "    <tr style=\"text-align: right;\">\n",
       "      <th></th>\n",
       "      <th>ID</th>\n",
       "      <th>answered_all</th>\n",
       "      <th>Duration..in.seconds.</th>\n",
       "      <th>RecordedDate</th>\n",
       "      <th>UserLanguage</th>\n",
       "      <th>Dem_age</th>\n",
       "      <th>Dem_gender</th>\n",
       "      <th>Dem_edu</th>\n",
       "      <th>Dem_edu_mom</th>\n",
       "      <th>Dem_employment</th>\n",
       "      <th>...</th>\n",
       "      <th>Final_open</th>\n",
       "      <th>PSS10_avg</th>\n",
       "      <th>SLON3_avg</th>\n",
       "      <th>neu</th>\n",
       "      <th>ext</th>\n",
       "      <th>ope</th>\n",
       "      <th>agr</th>\n",
       "      <th>con</th>\n",
       "      <th>SPS_avg</th>\n",
       "      <th>Scale_UCLA_TRI_avg</th>\n",
       "    </tr>\n",
       "  </thead>\n",
       "  <tbody>\n",
       "    <tr>\n",
       "      <th>0</th>\n",
       "      <td>1</td>\n",
       "      <td>No</td>\n",
       "      <td>180</td>\n",
       "      <td>2020-05-30 23:47:17</td>\n",
       "      <td>SAR</td>\n",
       "      <td>29</td>\n",
       "      <td>Female</td>\n",
       "      <td>College degree, bachelor, master</td>\n",
       "      <td>Some College or equivalent</td>\n",
       "      <td>Not employed</td>\n",
       "      <td>...</td>\n",
       "      <td>NaN</td>\n",
       "      <td>2.9</td>\n",
       "      <td>3.000000</td>\n",
       "      <td>NaN</td>\n",
       "      <td>NaN</td>\n",
       "      <td>NaN</td>\n",
       "      <td>NaN</td>\n",
       "      <td>NaN</td>\n",
       "      <td>NaN</td>\n",
       "      <td>NaN</td>\n",
       "    </tr>\n",
       "    <tr>\n",
       "      <th>1</th>\n",
       "      <td>2</td>\n",
       "      <td>No</td>\n",
       "      <td>3100</td>\n",
       "      <td>2020-05-29 23:30:15</td>\n",
       "      <td>UR</td>\n",
       "      <td>20</td>\n",
       "      <td>Male</td>\n",
       "      <td>College degree, bachelor, master</td>\n",
       "      <td>None</td>\n",
       "      <td>Student</td>\n",
       "      <td>...</td>\n",
       "      <td>NaN</td>\n",
       "      <td>2.2</td>\n",
       "      <td>2.333333</td>\n",
       "      <td>2.0</td>\n",
       "      <td>5.0</td>\n",
       "      <td>5.333333</td>\n",
       "      <td>5.0</td>\n",
       "      <td>5.0</td>\n",
       "      <td>5.0</td>\n",
       "      <td>NaN</td>\n",
       "    </tr>\n",
       "    <tr>\n",
       "      <th>2</th>\n",
       "      <td>3</td>\n",
       "      <td>No</td>\n",
       "      <td>127</td>\n",
       "      <td>2020-05-30 22:40:15</td>\n",
       "      <td>SAR</td>\n",
       "      <td>47</td>\n",
       "      <td>Female</td>\n",
       "      <td>Some College, short continuing education or eq...</td>\n",
       "      <td>Some College or equivalent</td>\n",
       "      <td>Self-employed</td>\n",
       "      <td>...</td>\n",
       "      <td>NaN</td>\n",
       "      <td>NaN</td>\n",
       "      <td>NaN</td>\n",
       "      <td>NaN</td>\n",
       "      <td>NaN</td>\n",
       "      <td>NaN</td>\n",
       "      <td>NaN</td>\n",
       "      <td>NaN</td>\n",
       "      <td>NaN</td>\n",
       "      <td>NaN</td>\n",
       "    </tr>\n",
       "  </tbody>\n",
       "</table>\n",
       "<p>3 rows × 154 columns</p>\n",
       "</div>"
      ],
      "text/plain": [
       "   ID answered_all  Duration..in.seconds.         RecordedDate UserLanguage  \\\n",
       "0   1           No                    180  2020-05-30 23:47:17          SAR   \n",
       "1   2           No                   3100  2020-05-29 23:30:15           UR   \n",
       "2   3           No                    127  2020-05-30 22:40:15          SAR   \n",
       "\n",
       "   Dem_age Dem_gender                                            Dem_edu  \\\n",
       "0       29     Female                   College degree, bachelor, master   \n",
       "1       20       Male                   College degree, bachelor, master   \n",
       "2       47     Female  Some College, short continuing education or eq...   \n",
       "\n",
       "                  Dem_edu_mom Dem_employment  ... Final_open PSS10_avg  \\\n",
       "0  Some College or equivalent   Not employed  ...        NaN       2.9   \n",
       "1                        None        Student  ...        NaN       2.2   \n",
       "2  Some College or equivalent  Self-employed  ...        NaN       NaN   \n",
       "\n",
       "  SLON3_avg  neu  ext       ope  agr  con  SPS_avg Scale_UCLA_TRI_avg  \n",
       "0  3.000000  NaN  NaN       NaN  NaN  NaN      NaN                NaN  \n",
       "1  2.333333  2.0  5.0  5.333333  5.0  5.0      5.0                NaN  \n",
       "2       NaN  NaN  NaN       NaN  NaN  NaN      NaN                NaN  \n",
       "\n",
       "[3 rows x 154 columns]"
      ]
     },
     "execution_count": 13,
     "metadata": {},
     "output_type": "execute_result"
    }
   ],
   "source": [
    "df_mai.head(3)"
   ]
  },
  {
   "cell_type": "code",
   "execution_count": 14,
   "id": "33797841-2529-4a3d-a540-7af7d400afd9",
   "metadata": {},
   "outputs": [
    {
     "name": "stdout",
     "output_type": "stream",
     "text": [
      "This dataset contains 125306 data points\n"
     ]
    }
   ],
   "source": [
    "print('This dataset contains ' + str(len(df_mai)) + ' data points')"
   ]
  },
  {
   "cell_type": "markdown",
   "id": "4830fdbc-dcfe-465b-9c79-c89b164a10b4",
   "metadata": {},
   "source": [
    "##### Processing\n",
    "We started by looking at the countries that interest us."
   ]
  },
  {
   "cell_type": "code",
   "execution_count": 15,
   "id": "4e5c2b59-70cc-45da-8585-54057bc0f136",
   "metadata": {},
   "outputs": [
    {
     "data": {
      "text/plain": [
       "Country\n",
       "Afghanistan    114\n",
       "Albania         79\n",
       "Algeria         38\n",
       "Andorra         15\n",
       "Angola          11\n",
       "              ... \n",
       "Venezuela       11\n",
       "Vietnam        173\n",
       "Zambia           4\n",
       "Zimbabwe         4\n",
       "other          223\n",
       "Length: 177, dtype: int64"
      ]
     },
     "execution_count": 15,
     "metadata": {},
     "output_type": "execute_result"
    }
   ],
   "source": [
    "#group the df by country\n",
    "country_groupe_mai = df_mai.groupby(['Country']).size()\n",
    "country_groupe_mai"
   ]
  },
  {
   "cell_type": "markdown",
   "id": "6316af0f-e8f1-47d8-9416-caeba21efb6d",
   "metadata": {},
   "source": [
    "We can see here that we also have >170 countries and that some of them also have only a few data points. Hence we decided to keep only those that have >200 data points in order to have enough data per country."
   ]
  },
  {
   "cell_type": "code",
   "execution_count": 16,
   "id": "fe925779-76b1-460d-9b77-9c2247b8573b",
   "metadata": {},
   "outputs": [
    {
     "name": "stdout",
     "output_type": "stream",
     "text": [
      "There is 43 countries that have more than 200 data points\n"
     ]
    }
   ],
   "source": [
    "#groupe countries that have >200 data point\n",
    "country_groupe_mai_filtered = country_groupe_mai[country_groupe_mai >= 200]\n",
    "\n",
    "#Filters out the countries that doesn't have >200 data points\n",
    "df_mai_filtered = df_mai[df_mai['Country'].isin(country_groupe_mai_filtered.index)]\n",
    "country_mai_over200 = df_mai_filtered.groupby(['Country']).size()\n",
    "print('There is ' + str(len(country_mai_over200)) + ' countries that have more than 200 data points')"
   ]
  },
  {
   "cell_type": "markdown",
   "id": "6944f3d1-34bc-492a-a07b-082f5f279efd",
   "metadata": {},
   "source": [
    "We then get ride of the other data from other countries."
   ]
  },
  {
   "cell_type": "code",
   "execution_count": 17,
   "id": "42564ba0-b6db-4607-b2d7-3c7c5c97832b",
   "metadata": {},
   "outputs": [
    {
     "name": "stdout",
     "output_type": "stream",
     "text": [
      "There is now only 25 EU countries left\n",
      "And 88877 is the new size of the df\n"
     ]
    }
   ],
   "source": [
    "#filters out the countries which aren't in the European List Country\n",
    "df_mai_filtered_EU = df_mai_filtered[df_mai_filtered['Country'].isin(EUROPE_COUNTRY)]\n",
    "country_mai_EU = df_mai_filtered_EU.groupby(['Country']).size()\n",
    "print('There is now only ' + str(len(country_mai_EU)) + ' EU countries left')\n",
    "print('And ' + str(len(df_mai_filtered_EU)) + ' is the new size of the df')"
   ]
  },
  {
   "cell_type": "markdown",
   "id": "8e083f09-d44e-44c8-9a03-bc4f40a6e4d6",
   "metadata": {},
   "source": [
    "##### Filtering NAs\n",
    "Now that we have our countries of interest, we need to clean the data from any NAs in the columns of interest."
   ]
  },
  {
   "cell_type": "code",
   "execution_count": 18,
   "id": "62ac7f18-620a-4f34-9826-989f71b50e95",
   "metadata": {},
   "outputs": [
    {
     "name": "stdout",
     "output_type": "stream",
     "text": [
      "The final dataset for the month of Mai is of size : 82380\n",
      "There were 6497 data point which were discarded\n"
     ]
    }
   ],
   "source": [
    "df_mai_final = df_mai_filtered_EU.dropna(subset = COLUMNS_AVG)\n",
    "print('The final dataset for the month of Mai is of size : ' + str(len(df_mai_final)))\n",
    "print('There were ' + str(len(df_mai_filtered_EU) - len(df_mai_final)) + ' data point which were discarded')"
   ]
  },
  {
   "cell_type": "markdown",
   "id": "eb0bce21-ca42-46f8-ab06-bea067e318ec",
   "metadata": {},
   "source": [
    "df_mai_final.head(3)"
   ]
  },
  {
   "cell_type": "markdown",
   "id": "fb2b43ae-d644-4e35-a951-abfb8825641b",
   "metadata": {},
   "source": [
    "We now have our cleaned dataset for the data from Mai 30 2020"
   ]
  },
  {
   "cell_type": "markdown",
   "id": "ee83dc43-e3c8-4b12-aaf3-e28a1039ee39",
   "metadata": {},
   "source": [
    "### 2nd file: data from June 17 2020\n",
    "##### Overview\n",
    "We start with a slight overview of the data, in order to understand what we are going to work with."
   ]
  },
  {
   "cell_type": "code",
   "execution_count": 19,
   "id": "a8672703-7546-49b0-8d7d-d3e587b66580",
   "metadata": {},
   "outputs": [
    {
     "data": {
      "text/html": [
       "<div>\n",
       "<style scoped>\n",
       "    .dataframe tbody tr th:only-of-type {\n",
       "        vertical-align: middle;\n",
       "    }\n",
       "\n",
       "    .dataframe tbody tr th {\n",
       "        vertical-align: top;\n",
       "    }\n",
       "\n",
       "    .dataframe thead th {\n",
       "        text-align: right;\n",
       "    }\n",
       "</style>\n",
       "<table border=\"1\" class=\"dataframe\">\n",
       "  <thead>\n",
       "    <tr style=\"text-align: right;\">\n",
       "      <th></th>\n",
       "      <th>Unnamed: 0</th>\n",
       "      <th>Duration..in.seconds.</th>\n",
       "      <th>RecordedDate</th>\n",
       "      <th>UserLanguage</th>\n",
       "      <th>Dem_age</th>\n",
       "      <th>Dem_gender</th>\n",
       "      <th>Dem_edu</th>\n",
       "      <th>Dem_edu_mom</th>\n",
       "      <th>Dem_employment</th>\n",
       "      <th>Country</th>\n",
       "      <th>...</th>\n",
       "      <th>Final_open</th>\n",
       "      <th>PSS10_avg</th>\n",
       "      <th>SLON3_avg</th>\n",
       "      <th>neu</th>\n",
       "      <th>ext</th>\n",
       "      <th>ope</th>\n",
       "      <th>agr</th>\n",
       "      <th>con</th>\n",
       "      <th>SPS_avg</th>\n",
       "      <th>Scale_UCLA_TRI_avg</th>\n",
       "    </tr>\n",
       "  </thead>\n",
       "  <tbody>\n",
       "    <tr>\n",
       "      <th>0</th>\n",
       "      <td>1</td>\n",
       "      <td>777</td>\n",
       "      <td>2020-06-17 01:01:39</td>\n",
       "      <td>NL</td>\n",
       "      <td>48</td>\n",
       "      <td>Female</td>\n",
       "      <td>College degree, bachelor, master</td>\n",
       "      <td>NaN</td>\n",
       "      <td>Full time employed</td>\n",
       "      <td>Netherlands</td>\n",
       "      <td>...</td>\n",
       "      <td>Reguliere ziekenhuiszorg is verminderd: mijn c...</td>\n",
       "      <td>2.4</td>\n",
       "      <td>2.666667</td>\n",
       "      <td>4.000000</td>\n",
       "      <td>3.666667</td>\n",
       "      <td>4.666667</td>\n",
       "      <td>4.333333</td>\n",
       "      <td>5.000000</td>\n",
       "      <td>5.1</td>\n",
       "      <td>NaN</td>\n",
       "    </tr>\n",
       "    <tr>\n",
       "      <th>1</th>\n",
       "      <td>2</td>\n",
       "      <td>952</td>\n",
       "      <td>2020-06-16 23:19:18</td>\n",
       "      <td>PL</td>\n",
       "      <td>36</td>\n",
       "      <td>Female</td>\n",
       "      <td>College degree, bachelor, master</td>\n",
       "      <td>Up to 12 years of school</td>\n",
       "      <td>Full time employed</td>\n",
       "      <td>Poland</td>\n",
       "      <td>...</td>\n",
       "      <td>NaN</td>\n",
       "      <td>1.7</td>\n",
       "      <td>1.000000</td>\n",
       "      <td>2.333333</td>\n",
       "      <td>3.666667</td>\n",
       "      <td>3.000000</td>\n",
       "      <td>3.666667</td>\n",
       "      <td>4.666667</td>\n",
       "      <td>5.3</td>\n",
       "      <td>NaN</td>\n",
       "    </tr>\n",
       "    <tr>\n",
       "      <th>2</th>\n",
       "      <td>3</td>\n",
       "      <td>2396</td>\n",
       "      <td>2020-06-16 22:47:36</td>\n",
       "      <td>EN</td>\n",
       "      <td>45</td>\n",
       "      <td>Female</td>\n",
       "      <td>College degree, bachelor, master</td>\n",
       "      <td>Up to 12 years of school</td>\n",
       "      <td>Full time employed</td>\n",
       "      <td>Finland</td>\n",
       "      <td>...</td>\n",
       "      <td>NaN</td>\n",
       "      <td>1.7</td>\n",
       "      <td>2.000000</td>\n",
       "      <td>2.666667</td>\n",
       "      <td>4.333333</td>\n",
       "      <td>5.000000</td>\n",
       "      <td>5.000000</td>\n",
       "      <td>5.000000</td>\n",
       "      <td>5.2</td>\n",
       "      <td>NaN</td>\n",
       "    </tr>\n",
       "  </tbody>\n",
       "</table>\n",
       "<p>3 rows × 153 columns</p>\n",
       "</div>"
      ],
      "text/plain": [
       "   Unnamed: 0  Duration..in.seconds.         RecordedDate UserLanguage  \\\n",
       "0           1                    777  2020-06-17 01:01:39           NL   \n",
       "1           2                    952  2020-06-16 23:19:18           PL   \n",
       "2           3                   2396  2020-06-16 22:47:36           EN   \n",
       "\n",
       "   Dem_age Dem_gender                           Dem_edu  \\\n",
       "0       48     Female  College degree, bachelor, master   \n",
       "1       36     Female  College degree, bachelor, master   \n",
       "2       45     Female  College degree, bachelor, master   \n",
       "\n",
       "                Dem_edu_mom      Dem_employment      Country  ...  \\\n",
       "0                       NaN  Full time employed  Netherlands  ...   \n",
       "1  Up to 12 years of school  Full time employed       Poland  ...   \n",
       "2  Up to 12 years of school  Full time employed      Finland  ...   \n",
       "\n",
       "                                          Final_open PSS10_avg SLON3_avg  \\\n",
       "0  Reguliere ziekenhuiszorg is verminderd: mijn c...       2.4  2.666667   \n",
       "1                                                NaN       1.7  1.000000   \n",
       "2                                                NaN       1.7  2.000000   \n",
       "\n",
       "        neu       ext       ope       agr       con SPS_avg Scale_UCLA_TRI_avg  \n",
       "0  4.000000  3.666667  4.666667  4.333333  5.000000     5.1                NaN  \n",
       "1  2.333333  3.666667  3.000000  3.666667  4.666667     5.3                NaN  \n",
       "2  2.666667  4.333333  5.000000  5.000000  5.000000     5.2                NaN  \n",
       "\n",
       "[3 rows x 153 columns]"
      ]
     },
     "execution_count": 19,
     "metadata": {},
     "output_type": "execute_result"
    }
   ],
   "source": [
    "df_june.head(3)"
   ]
  },
  {
   "cell_type": "code",
   "execution_count": 20,
   "id": "9b365170-f4ed-4d89-9cad-847a7d147b6a",
   "metadata": {},
   "outputs": [
    {
     "name": "stdout",
     "output_type": "stream",
     "text": [
      "This dataset contains 126405 data points\n"
     ]
    }
   ],
   "source": [
    "print('This dataset contains ' + str(len(df_june)) + ' data points')"
   ]
  },
  {
   "cell_type": "markdown",
   "id": "f97b4869-f257-48d1-9297-234dd8676233",
   "metadata": {},
   "source": [
    "##### Processing\n",
    "We started by looking at the countries that interest us."
   ]
  },
  {
   "cell_type": "code",
   "execution_count": 21,
   "id": "536945bd-5aad-4011-82a6-af586ed7884a",
   "metadata": {},
   "outputs": [
    {
     "data": {
      "text/plain": [
       "Country\n",
       "Afghanistan    115\n",
       "Albania         80\n",
       "Algeria         38\n",
       "Andorra         15\n",
       "Angola          11\n",
       "              ... \n",
       "Venezuela       11\n",
       "Vietnam        173\n",
       "Zambia           4\n",
       "Zimbabwe         4\n",
       "other          224\n",
       "Length: 177, dtype: int64"
      ]
     },
     "execution_count": 21,
     "metadata": {},
     "output_type": "execute_result"
    }
   ],
   "source": [
    "#group the df by country\n",
    "country_groupe_june = df_june.groupby(['Country']).size()\n",
    "country_groupe_june"
   ]
  },
  {
   "cell_type": "markdown",
   "id": "8eed951b-efdf-4e86-9003-d52a3475cf29",
   "metadata": {},
   "source": [
    "We can see here that we also have >170 countries and that some of them also have only a few data points. Hence we decided to keep only those that have >200 data points in order to have enough data per country."
   ]
  },
  {
   "cell_type": "code",
   "execution_count": 22,
   "id": "a9233b05-1856-4c4e-bbf4-0e0aa63409dd",
   "metadata": {},
   "outputs": [
    {
     "name": "stdout",
     "output_type": "stream",
     "text": [
      "There is 43 countries that have more than 200 data points\n"
     ]
    }
   ],
   "source": [
    "#groupe countries that have >200 data point\n",
    "country_groupe_june_filtered = country_groupe_june[country_groupe_mai >= 200]\n",
    "\n",
    "#Filters out the countries that doesn't have >200 data points\n",
    "df_june_filtered = df_june[df_june['Country'].isin(country_groupe_june_filtered.index)]\n",
    "country_june_over200 = df_june_filtered.groupby(['Country']).size()\n",
    "print('There is ' + str(len(country_june_over200)) + ' countries that have more than 200 data points')"
   ]
  },
  {
   "cell_type": "markdown",
   "id": "e609ae16-6c0d-4ead-9e59-5dcd7f2e6bc5",
   "metadata": {},
   "source": [
    "We then get ride of the other data from other countries."
   ]
  },
  {
   "cell_type": "code",
   "execution_count": 23,
   "id": "b5149e85-97c9-4761-8fc4-7cc2380e647b",
   "metadata": {},
   "outputs": [
    {
     "name": "stdout",
     "output_type": "stream",
     "text": [
      "There is now only 25 EU countries left\n",
      "And 89179 is the new size of the df\n"
     ]
    }
   ],
   "source": [
    "#filters out the countries which aren't in the European List Country\n",
    "df_june_filtered_EU = df_june_filtered[df_june_filtered['Country'].isin(EUROPE_COUNTRY)]\n",
    "country_june_EU = df_june_filtered_EU.groupby(['Country']).size()\n",
    "print('There is now only ' + str(len(country_june_EU)) + ' EU countries left')\n",
    "print('And ' + str(len(df_june_filtered_EU)) + ' is the new size of the df')"
   ]
  },
  {
   "cell_type": "markdown",
   "id": "c437dc14-cfdd-4053-9800-ee60f805bda8",
   "metadata": {},
   "source": [
    "##### Filtering NAs\n",
    "Now that we have our countries of interest, we need to clean the data from any NAs in the columns of interest."
   ]
  },
  {
   "cell_type": "code",
   "execution_count": 24,
   "id": "dfcf4e2b-69ad-4383-8dc6-001488275727",
   "metadata": {},
   "outputs": [
    {
     "name": "stdout",
     "output_type": "stream",
     "text": [
      "The final dataset for the month of June is of size : 82646\n",
      "There were 6533 data point which were discarded\n"
     ]
    }
   ],
   "source": [
    "df_june_final = df_june_filtered_EU.dropna(subset = COLUMNS_AVG)\n",
    "print('The final dataset for the month of June is of size : ' + str(len(df_june_final)))\n",
    "print('There were ' + str(len(df_june_filtered_EU) - len(df_june_final)) + ' data point which were discarded')"
   ]
  },
  {
   "cell_type": "code",
   "execution_count": 25,
   "id": "67ede70a-63bf-4149-b063-a40afe523206",
   "metadata": {},
   "outputs": [
    {
     "data": {
      "text/html": [
       "<div>\n",
       "<style scoped>\n",
       "    .dataframe tbody tr th:only-of-type {\n",
       "        vertical-align: middle;\n",
       "    }\n",
       "\n",
       "    .dataframe tbody tr th {\n",
       "        vertical-align: top;\n",
       "    }\n",
       "\n",
       "    .dataframe thead th {\n",
       "        text-align: right;\n",
       "    }\n",
       "</style>\n",
       "<table border=\"1\" class=\"dataframe\">\n",
       "  <thead>\n",
       "    <tr style=\"text-align: right;\">\n",
       "      <th></th>\n",
       "      <th>Unnamed: 0</th>\n",
       "      <th>Duration..in.seconds.</th>\n",
       "      <th>RecordedDate</th>\n",
       "      <th>UserLanguage</th>\n",
       "      <th>Dem_age</th>\n",
       "      <th>Dem_gender</th>\n",
       "      <th>Dem_edu</th>\n",
       "      <th>Dem_edu_mom</th>\n",
       "      <th>Dem_employment</th>\n",
       "      <th>Country</th>\n",
       "      <th>...</th>\n",
       "      <th>Final_open</th>\n",
       "      <th>PSS10_avg</th>\n",
       "      <th>SLON3_avg</th>\n",
       "      <th>neu</th>\n",
       "      <th>ext</th>\n",
       "      <th>ope</th>\n",
       "      <th>agr</th>\n",
       "      <th>con</th>\n",
       "      <th>SPS_avg</th>\n",
       "      <th>Scale_UCLA_TRI_avg</th>\n",
       "    </tr>\n",
       "  </thead>\n",
       "  <tbody>\n",
       "    <tr>\n",
       "      <th>0</th>\n",
       "      <td>1</td>\n",
       "      <td>777</td>\n",
       "      <td>2020-06-17 01:01:39</td>\n",
       "      <td>NL</td>\n",
       "      <td>48</td>\n",
       "      <td>Female</td>\n",
       "      <td>College degree, bachelor, master</td>\n",
       "      <td>NaN</td>\n",
       "      <td>Full time employed</td>\n",
       "      <td>Netherlands</td>\n",
       "      <td>...</td>\n",
       "      <td>Reguliere ziekenhuiszorg is verminderd: mijn c...</td>\n",
       "      <td>2.4</td>\n",
       "      <td>2.666667</td>\n",
       "      <td>4.000000</td>\n",
       "      <td>3.666667</td>\n",
       "      <td>4.666667</td>\n",
       "      <td>4.333333</td>\n",
       "      <td>5.000000</td>\n",
       "      <td>5.1</td>\n",
       "      <td>NaN</td>\n",
       "    </tr>\n",
       "    <tr>\n",
       "      <th>1</th>\n",
       "      <td>2</td>\n",
       "      <td>952</td>\n",
       "      <td>2020-06-16 23:19:18</td>\n",
       "      <td>PL</td>\n",
       "      <td>36</td>\n",
       "      <td>Female</td>\n",
       "      <td>College degree, bachelor, master</td>\n",
       "      <td>Up to 12 years of school</td>\n",
       "      <td>Full time employed</td>\n",
       "      <td>Poland</td>\n",
       "      <td>...</td>\n",
       "      <td>NaN</td>\n",
       "      <td>1.7</td>\n",
       "      <td>1.000000</td>\n",
       "      <td>2.333333</td>\n",
       "      <td>3.666667</td>\n",
       "      <td>3.000000</td>\n",
       "      <td>3.666667</td>\n",
       "      <td>4.666667</td>\n",
       "      <td>5.3</td>\n",
       "      <td>NaN</td>\n",
       "    </tr>\n",
       "    <tr>\n",
       "      <th>2</th>\n",
       "      <td>3</td>\n",
       "      <td>2396</td>\n",
       "      <td>2020-06-16 22:47:36</td>\n",
       "      <td>EN</td>\n",
       "      <td>45</td>\n",
       "      <td>Female</td>\n",
       "      <td>College degree, bachelor, master</td>\n",
       "      <td>Up to 12 years of school</td>\n",
       "      <td>Full time employed</td>\n",
       "      <td>Finland</td>\n",
       "      <td>...</td>\n",
       "      <td>NaN</td>\n",
       "      <td>1.7</td>\n",
       "      <td>2.000000</td>\n",
       "      <td>2.666667</td>\n",
       "      <td>4.333333</td>\n",
       "      <td>5.000000</td>\n",
       "      <td>5.000000</td>\n",
       "      <td>5.000000</td>\n",
       "      <td>5.2</td>\n",
       "      <td>NaN</td>\n",
       "    </tr>\n",
       "  </tbody>\n",
       "</table>\n",
       "<p>3 rows × 153 columns</p>\n",
       "</div>"
      ],
      "text/plain": [
       "   Unnamed: 0  Duration..in.seconds.         RecordedDate UserLanguage  \\\n",
       "0           1                    777  2020-06-17 01:01:39           NL   \n",
       "1           2                    952  2020-06-16 23:19:18           PL   \n",
       "2           3                   2396  2020-06-16 22:47:36           EN   \n",
       "\n",
       "   Dem_age Dem_gender                           Dem_edu  \\\n",
       "0       48     Female  College degree, bachelor, master   \n",
       "1       36     Female  College degree, bachelor, master   \n",
       "2       45     Female  College degree, bachelor, master   \n",
       "\n",
       "                Dem_edu_mom      Dem_employment      Country  ...  \\\n",
       "0                       NaN  Full time employed  Netherlands  ...   \n",
       "1  Up to 12 years of school  Full time employed       Poland  ...   \n",
       "2  Up to 12 years of school  Full time employed      Finland  ...   \n",
       "\n",
       "                                          Final_open PSS10_avg SLON3_avg  \\\n",
       "0  Reguliere ziekenhuiszorg is verminderd: mijn c...       2.4  2.666667   \n",
       "1                                                NaN       1.7  1.000000   \n",
       "2                                                NaN       1.7  2.000000   \n",
       "\n",
       "        neu       ext       ope       agr       con SPS_avg Scale_UCLA_TRI_avg  \n",
       "0  4.000000  3.666667  4.666667  4.333333  5.000000     5.1                NaN  \n",
       "1  2.333333  3.666667  3.000000  3.666667  4.666667     5.3                NaN  \n",
       "2  2.666667  4.333333  5.000000  5.000000  5.000000     5.2                NaN  \n",
       "\n",
       "[3 rows x 153 columns]"
      ]
     },
     "execution_count": 25,
     "metadata": {},
     "output_type": "execute_result"
    }
   ],
   "source": [
    "df_june_final.head(3)"
   ]
  },
  {
   "cell_type": "markdown",
   "id": "01886d1d-fc50-4dc3-8b5f-06d5770ba87d",
   "metadata": {},
   "source": [
    "We now have our cleaned dataset for the data from Mai 30 2020"
   ]
  },
  {
   "cell_type": "markdown",
   "id": "2be5b496-2d71-44f7-b17f-a3744ed61ecc",
   "metadata": {},
   "source": [
    "### Output\n",
    "We can now output our processed files"
   ]
  },
  {
   "cell_type": "code",
   "execution_count": 26,
   "id": "8fae6f30-9f8e-4f68-b17c-c9bbe3a21eba",
   "metadata": {},
   "outputs": [
    {
     "data": {
      "text/plain": [
       "\" \\nMONTHS = ['april', 'mai', 'june']\\nPATH_OUTPUT = 'data/'\\ncsv_names = []\\nfor month in MONTHS:\\n    csv_names += ['COVIDISTRESS_' + month + '_cleaned']\\ndf_april_final.to_csv(PATH_OUTPUT + csv_names[0])\\ndf_april_final.to_csv(PATH_OUTPUT + csv_names[1])\\ndf_april_final.to_csv(PATH_OUTPUT +csv_names[2])\\n\""
      ]
     },
     "execution_count": 26,
     "metadata": {},
     "output_type": "execute_result"
    }
   ],
   "source": [
    "#Uncomment to output cleaned file\n",
    "\"\"\" \n",
    "MONTHS = ['april', 'mai', 'june']\n",
    "PATH_OUTPUT = 'data/'\n",
    "csv_names = []\n",
    "for month in MONTHS:\n",
    "    csv_names += ['COVIDISTRESS_' + month + '_cleaned']\n",
    "df_april_final.to_csv(PATH_OUTPUT + csv_names[0])\n",
    "df_april_final.to_csv(PATH_OUTPUT + csv_names[1])\n",
    "df_april_final.to_csv(PATH_OUTPUT +csv_names[2])\n",
    "\"\"\""
   ]
  }
 ],
 "metadata": {
  "kernelspec": {
   "display_name": "Python [conda env:ada] *",
   "language": "python",
   "name": "conda-env-ada-py"
  },
  "language_info": {
   "codemirror_mode": {
    "name": "ipython",
    "version": 3
   },
   "file_extension": ".py",
   "mimetype": "text/x-python",
   "name": "python",
   "nbconvert_exporter": "python",
   "pygments_lexer": "ipython3",
   "version": "3.9.13"
  }
 },
 "nbformat": 4,
 "nbformat_minor": 5
}
