{
 "cells": [
  {
   "cell_type": "markdown",
   "id": "03801775-b159-4e30-b4a0-81e5b3eed5e4",
   "metadata": {},
   "source": [
    "File name: main.ipynb\n",
    "\n",
    "Author: ADAMsLEG\n",
    "\n",
    "Date created: 03/11/2022\n",
    "\n",
    "Date last modified: 03/11/2022\n",
    "\n",
    "Python Version: 3.9\n"
   ]
  },
  {
   "cell_type": "code",
   "execution_count": 1,
   "id": "33c0464c-9f21-4323-8520-e198ca80ea61",
   "metadata": {},
   "outputs": [],
   "source": [
    "import pandas as pd"
   ]
  },
  {
   "cell_type": "code",
   "execution_count": 11,
   "id": "ef75dfbd-549a-463b-8490-86c37f37c3cc",
   "metadata": {},
   "outputs": [],
   "source": [
    "DATA_PATH = \"data/\"\n",
    "\n",
    "INTERVENTIONS_DATASET = DATA_PATH + \"interventions.csv\"\n",
    "GLOBAL_MOBILITY_DATASET = DATA_PATH + \"Global_Mobility_Report.csv.gz\"\n",
    "TOPICS_LINKED_DATASET = DATA_PATH + \"topics_linked.csv.xz\"\n",
    "AGGREGATED_JSON = DATA_PATH + \"aggregated_timeseries.json.gz\"\n"
   ]
  },
  {
   "cell_type": "code",
   "execution_count": 12,
   "id": "994ebb4d-1c63-470d-95ff-5384eca048d3",
   "metadata": {},
   "outputs": [],
   "source": [
    "df_interventions = pd.read_csv(INTERVENTIONS_DATASET)"
   ]
  },
  {
   "cell_type": "code",
   "execution_count": null,
   "id": "3f85de61-2ec0-4685-9c7d-44d24f6f6cc9",
   "metadata": {},
   "outputs": [],
   "source": []
  }
 ],
 "metadata": {
  "kernelspec": {
   "display_name": "Python [conda env:ada] *",
   "language": "python",
   "name": "conda-env-ada-py"
  },
  "language_info": {
   "codemirror_mode": {
    "name": "ipython",
    "version": 3
   },
   "file_extension": ".py",
   "mimetype": "text/x-python",
   "name": "python",
   "nbconvert_exporter": "python",
   "pygments_lexer": "ipython3",
   "version": "3.9.13"
  }
 },
 "nbformat": 4,
 "nbformat_minor": 5
}
